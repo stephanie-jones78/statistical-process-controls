{
 "cells": [
  {
   "cell_type": "markdown",
   "id": "cbee810b",
   "metadata": {},
   "source": [
    "# Statistical Process Controls\n",
    ">Thank you to [Ann Jackson](https://www.linkedin.com/in/annujackson/) for the concept breakdown. Check out her blog post [here](http://jacksontwo.com/statistical-process-control-charts).\n",
    "\n",
    "According to [Wikipedia](https://en.wikipedia.org/wiki/Statistical_process_control), Statistical process control (SPC) or Statistical Quality Control (SQC) is a method of quality control, born out of the manufacturing industry, which uses statistical methods (*such as the average, mean, and standard deviation*) to monitor and control the quality of a process. This helps to ensure the process operates efficiently, producing more specification-conforming end products or results with less waste. SPC can be applied to any process where the *conforming product* (product meeting specifications) output can be measured. \n",
    "<br>\n",
    "<br>\n",
    "Key tools include:\n",
    "- run charts,\n",
    "- control charts,\n",
    "- a focus on continuous improvement, and\n",
    "- the design of expirements \n",
    "\n",
    "⚠️ An advantage of SPC over other methods of quality control, such as inspection, is that it emphasizes the early detection and prevention of problems, rather than the correction of problems after they have occurred. In addition to reducing waste, SPC can lead to a reduction production time because it makes it less likely that the end product will need to be reworked or scrapped."
   ]
  },
  {
   "cell_type": "markdown",
   "id": "9efdcb6a",
   "metadata": {},
   "source": [
    "## Application to Non-manufacturing Processes\n",
    "Statistical process control can also support any repetitive process and has been implemented in many use cases such as:\n",
    "- financial auditing and accounting,\n",
    "- IT operations,\n",
    "- health care processes, and\n",
    "- clerical processes, such as:\n",
    "    - loan arrangement and administration and\n",
    "    - customer billing\n",
    "    - "
   ]
  },
  {
   "cell_type": "markdown",
   "id": "70cf4a49",
   "metadata": {},
   "source": [
    "## Using Control Charts to Better Understand Data\n",
    "### Step I: Data Collection and Cleanup\n",
    "1. Read in file\n",
    "2. Check for duplicates\n",
    "3. Dropping uneccessary columns\n",
    "4. Column label cleanup\n",
    "5. Fixing data types and checking for nulls\n",
    "6. Univariate Distribution Exploration\n",
    "7. Write clean data to new csv"
   ]
  },
  {
   "cell_type": "code",
   "execution_count": 27,
   "id": "bb1be400",
   "metadata": {},
   "outputs": [],
   "source": [
    "import pandas as pd\n",
    "import matplotlib.pyplot as plt"
   ]
  },
  {
   "cell_type": "code",
   "execution_count": 3,
   "id": "6ee3eeb9",
   "metadata": {},
   "outputs": [
    {
     "data": {
      "text/html": [
       "<div>\n",
       "<style scoped>\n",
       "    .dataframe tbody tr th:only-of-type {\n",
       "        vertical-align: middle;\n",
       "    }\n",
       "\n",
       "    .dataframe tbody tr th {\n",
       "        vertical-align: top;\n",
       "    }\n",
       "\n",
       "    .dataframe thead th {\n",
       "        text-align: right;\n",
       "    }\n",
       "</style>\n",
       "<table border=\"1\" class=\"dataframe\">\n",
       "  <thead>\n",
       "    <tr style=\"text-align: right;\">\n",
       "      <th></th>\n",
       "      <th>Date</th>\n",
       "      <th>Test Tool Tip</th>\n",
       "      <th>Calories</th>\n",
       "      <th>Total Daily Calories</th>\n",
       "    </tr>\n",
       "  </thead>\n",
       "  <tbody>\n",
       "    <tr>\n",
       "      <th>0</th>\n",
       "      <td>2/29/2016</td>\n",
       "      <td>Warning! 4 out of 5 consecutive observations a...</td>\n",
       "      <td>1614.91</td>\n",
       "      <td>1614.91</td>\n",
       "    </tr>\n",
       "    <tr>\n",
       "      <th>1</th>\n",
       "      <td>3/1/2016</td>\n",
       "      <td>Warning! 4 out of 5 consecutive observations a...</td>\n",
       "      <td>1626.08</td>\n",
       "      <td>1626.08</td>\n",
       "    </tr>\n",
       "    <tr>\n",
       "      <th>2</th>\n",
       "      <td>3/2/2016</td>\n",
       "      <td>Warning! 4 out of 5 consecutive observations a...</td>\n",
       "      <td>1599.23</td>\n",
       "      <td>1599.23</td>\n",
       "    </tr>\n",
       "    <tr>\n",
       "      <th>3</th>\n",
       "      <td>3/3/2016</td>\n",
       "      <td>Warning! 4 out of 5 consecutive observations a...</td>\n",
       "      <td>1640.72</td>\n",
       "      <td>1640.72</td>\n",
       "    </tr>\n",
       "    <tr>\n",
       "      <th>4</th>\n",
       "      <td>3/4/2016</td>\n",
       "      <td>Warning! 4 out of 5 consecutive observations a...</td>\n",
       "      <td>1642.72</td>\n",
       "      <td>1642.72</td>\n",
       "    </tr>\n",
       "    <tr>\n",
       "      <th>...</th>\n",
       "      <td>...</td>\n",
       "      <td>...</td>\n",
       "      <td>...</td>\n",
       "      <td>...</td>\n",
       "    </tr>\n",
       "    <tr>\n",
       "      <th>278</th>\n",
       "      <td>12/3/2016</td>\n",
       "      <td>Warning! 4 out of 5 consecutive observations a...</td>\n",
       "      <td>1651.02</td>\n",
       "      <td>1651.02</td>\n",
       "    </tr>\n",
       "    <tr>\n",
       "      <th>279</th>\n",
       "      <td>12/4/2016</td>\n",
       "      <td>Warning! 4 out of 5 consecutive observations a...</td>\n",
       "      <td>1919.79</td>\n",
       "      <td>1919.79</td>\n",
       "    </tr>\n",
       "    <tr>\n",
       "      <th>280</th>\n",
       "      <td>12/5/2016</td>\n",
       "      <td>Warning! 4 out of 5 consecutive observations a...</td>\n",
       "      <td>1653.56</td>\n",
       "      <td>1653.56</td>\n",
       "    </tr>\n",
       "    <tr>\n",
       "      <th>281</th>\n",
       "      <td>12/6/2016</td>\n",
       "      <td>Warning! 4 out of 5 consecutive observations a...</td>\n",
       "      <td>1653.05</td>\n",
       "      <td>1653.05</td>\n",
       "    </tr>\n",
       "    <tr>\n",
       "      <th>282</th>\n",
       "      <td>12/7/2016</td>\n",
       "      <td>Warning! 4 out of 5 consecutive observations a...</td>\n",
       "      <td>1435.39</td>\n",
       "      <td>1435.39</td>\n",
       "    </tr>\n",
       "  </tbody>\n",
       "</table>\n",
       "<p>283 rows × 4 columns</p>\n",
       "</div>"
      ],
      "text/plain": [
       "          Date                                      Test Tool Tip  Calories  \\\n",
       "0    2/29/2016  Warning! 4 out of 5 consecutive observations a...   1614.91   \n",
       "1     3/1/2016  Warning! 4 out of 5 consecutive observations a...   1626.08   \n",
       "2     3/2/2016  Warning! 4 out of 5 consecutive observations a...   1599.23   \n",
       "3     3/3/2016  Warning! 4 out of 5 consecutive observations a...   1640.72   \n",
       "4     3/4/2016  Warning! 4 out of 5 consecutive observations a...   1642.72   \n",
       "..         ...                                                ...       ...   \n",
       "278  12/3/2016  Warning! 4 out of 5 consecutive observations a...   1651.02   \n",
       "279  12/4/2016  Warning! 4 out of 5 consecutive observations a...   1919.79   \n",
       "280  12/5/2016  Warning! 4 out of 5 consecutive observations a...   1653.56   \n",
       "281  12/6/2016  Warning! 4 out of 5 consecutive observations a...   1653.05   \n",
       "282  12/7/2016  Warning! 4 out of 5 consecutive observations a...   1435.39   \n",
       "\n",
       "     Total Daily Calories  \n",
       "0                 1614.91  \n",
       "1                 1626.08  \n",
       "2                 1599.23  \n",
       "3                 1640.72  \n",
       "4                 1642.72  \n",
       "..                    ...  \n",
       "278               1651.02  \n",
       "279               1919.79  \n",
       "280               1653.56  \n",
       "281               1653.05  \n",
       "282               1435.39  \n",
       "\n",
       "[283 rows x 4 columns]"
      ]
     },
     "execution_count": 3,
     "metadata": {},
     "output_type": "execute_result"
    }
   ],
   "source": [
    "# 1. reading in csv file as df\n",
    "data = 'data_calorie-intake.csv'\n",
    "\n",
    "df = pd.read_csv(data)\n",
    "df"
   ]
  },
  {
   "cell_type": "code",
   "execution_count": 5,
   "id": "6b772799",
   "metadata": {},
   "outputs": [
    {
     "data": {
      "text/html": [
       "<div>\n",
       "<style scoped>\n",
       "    .dataframe tbody tr th:only-of-type {\n",
       "        vertical-align: middle;\n",
       "    }\n",
       "\n",
       "    .dataframe tbody tr th {\n",
       "        vertical-align: top;\n",
       "    }\n",
       "\n",
       "    .dataframe thead th {\n",
       "        text-align: right;\n",
       "    }\n",
       "</style>\n",
       "<table border=\"1\" class=\"dataframe\">\n",
       "  <thead>\n",
       "    <tr style=\"text-align: right;\">\n",
       "      <th></th>\n",
       "      <th>Date</th>\n",
       "      <th>Test Tool Tip</th>\n",
       "      <th>Calories</th>\n",
       "      <th>Total Daily Calories</th>\n",
       "    </tr>\n",
       "  </thead>\n",
       "  <tbody>\n",
       "  </tbody>\n",
       "</table>\n",
       "</div>"
      ],
      "text/plain": [
       "Empty DataFrame\n",
       "Columns: [Date, Test Tool Tip, Calories, Total Daily Calories]\n",
       "Index: []"
      ]
     },
     "execution_count": 5,
     "metadata": {},
     "output_type": "execute_result"
    }
   ],
   "source": [
    "# 2. checking for duplicates\n",
    "df[df.duplicated(keep = False)]\n",
    "\n",
    "    # no duplicate records; don't need to drop any dupes"
   ]
  },
  {
   "cell_type": "code",
   "execution_count": 6,
   "id": "efe8f0be",
   "metadata": {},
   "outputs": [
    {
     "data": {
      "text/html": [
       "<div>\n",
       "<style scoped>\n",
       "    .dataframe tbody tr th:only-of-type {\n",
       "        vertical-align: middle;\n",
       "    }\n",
       "\n",
       "    .dataframe tbody tr th {\n",
       "        vertical-align: top;\n",
       "    }\n",
       "\n",
       "    .dataframe thead th {\n",
       "        text-align: right;\n",
       "    }\n",
       "</style>\n",
       "<table border=\"1\" class=\"dataframe\">\n",
       "  <thead>\n",
       "    <tr style=\"text-align: right;\">\n",
       "      <th></th>\n",
       "      <th>Date</th>\n",
       "      <th>Test Tool Tip</th>\n",
       "      <th>Calories</th>\n",
       "      <th>Total Daily Calories</th>\n",
       "    </tr>\n",
       "  </thead>\n",
       "  <tbody>\n",
       "  </tbody>\n",
       "</table>\n",
       "</div>"
      ],
      "text/plain": [
       "Empty DataFrame\n",
       "Columns: [Date, Test Tool Tip, Calories, Total Daily Calories]\n",
       "Index: []"
      ]
     },
     "execution_count": 6,
     "metadata": {},
     "output_type": "execute_result"
    }
   ],
   "source": [
    "# 3a. are the last two columns showing the same info?\n",
    "df[df.Calories != df['Total Daily Calories']]\n",
    "\n",
    "    # yes; can drop Total Daily Calories column"
   ]
  },
  {
   "cell_type": "code",
   "execution_count": 7,
   "id": "fb1576c8",
   "metadata": {},
   "outputs": [
    {
     "data": {
      "text/plain": [
       "Warning! 4 out of 5 consecutive observations are 1 standard deviation away from the mean on the same side.    283\n",
       "Name: Test Tool Tip, dtype: int64"
      ]
     },
     "execution_count": 7,
     "metadata": {},
     "output_type": "execute_result"
    }
   ],
   "source": [
    "# 3b. is Test column all the same info?\n",
    "df['Test Tool Tip'].value_counts(dropna = False)\n",
    "\n",
    "    # yes, can also drop this column"
   ]
  },
  {
   "cell_type": "code",
   "execution_count": 13,
   "id": "a4f08cbd",
   "metadata": {},
   "outputs": [
    {
     "data": {
      "text/plain": [
       "Index(['date', 'calories'], dtype='object')"
      ]
     },
     "execution_count": 13,
     "metadata": {},
     "output_type": "execute_result"
    }
   ],
   "source": [
    "# 3c. dropping columns not needed\n",
    "df2 = df.iloc[:, [0, 2]]"
   ]
  },
  {
   "cell_type": "code",
   "execution_count": 14,
   "id": "5f633d17",
   "metadata": {},
   "outputs": [
    {
     "data": {
      "text/html": [
       "<div>\n",
       "<style scoped>\n",
       "    .dataframe tbody tr th:only-of-type {\n",
       "        vertical-align: middle;\n",
       "    }\n",
       "\n",
       "    .dataframe tbody tr th {\n",
       "        vertical-align: top;\n",
       "    }\n",
       "\n",
       "    .dataframe thead th {\n",
       "        text-align: right;\n",
       "    }\n",
       "</style>\n",
       "<table border=\"1\" class=\"dataframe\">\n",
       "  <thead>\n",
       "    <tr style=\"text-align: right;\">\n",
       "      <th></th>\n",
       "      <th>date</th>\n",
       "      <th>calories</th>\n",
       "    </tr>\n",
       "  </thead>\n",
       "  <tbody>\n",
       "    <tr>\n",
       "      <th>0</th>\n",
       "      <td>2/29/2016</td>\n",
       "      <td>1614.91</td>\n",
       "    </tr>\n",
       "    <tr>\n",
       "      <th>1</th>\n",
       "      <td>3/1/2016</td>\n",
       "      <td>1626.08</td>\n",
       "    </tr>\n",
       "    <tr>\n",
       "      <th>2</th>\n",
       "      <td>3/2/2016</td>\n",
       "      <td>1599.23</td>\n",
       "    </tr>\n",
       "    <tr>\n",
       "      <th>3</th>\n",
       "      <td>3/3/2016</td>\n",
       "      <td>1640.72</td>\n",
       "    </tr>\n",
       "    <tr>\n",
       "      <th>4</th>\n",
       "      <td>3/4/2016</td>\n",
       "      <td>1642.72</td>\n",
       "    </tr>\n",
       "    <tr>\n",
       "      <th>...</th>\n",
       "      <td>...</td>\n",
       "      <td>...</td>\n",
       "    </tr>\n",
       "    <tr>\n",
       "      <th>278</th>\n",
       "      <td>12/3/2016</td>\n",
       "      <td>1651.02</td>\n",
       "    </tr>\n",
       "    <tr>\n",
       "      <th>279</th>\n",
       "      <td>12/4/2016</td>\n",
       "      <td>1919.79</td>\n",
       "    </tr>\n",
       "    <tr>\n",
       "      <th>280</th>\n",
       "      <td>12/5/2016</td>\n",
       "      <td>1653.56</td>\n",
       "    </tr>\n",
       "    <tr>\n",
       "      <th>281</th>\n",
       "      <td>12/6/2016</td>\n",
       "      <td>1653.05</td>\n",
       "    </tr>\n",
       "    <tr>\n",
       "      <th>282</th>\n",
       "      <td>12/7/2016</td>\n",
       "      <td>1435.39</td>\n",
       "    </tr>\n",
       "  </tbody>\n",
       "</table>\n",
       "<p>283 rows × 2 columns</p>\n",
       "</div>"
      ],
      "text/plain": [
       "          date  calories\n",
       "0    2/29/2016   1614.91\n",
       "1     3/1/2016   1626.08\n",
       "2     3/2/2016   1599.23\n",
       "3     3/3/2016   1640.72\n",
       "4     3/4/2016   1642.72\n",
       "..         ...       ...\n",
       "278  12/3/2016   1651.02\n",
       "279  12/4/2016   1919.79\n",
       "280  12/5/2016   1653.56\n",
       "281  12/6/2016   1653.05\n",
       "282  12/7/2016   1435.39\n",
       "\n",
       "[283 rows x 2 columns]"
      ]
     },
     "execution_count": 14,
     "metadata": {},
     "output_type": "execute_result"
    }
   ],
   "source": [
    "# 4. lowercasing column names\n",
    "df2.columns = df2.columns.str.lower()\n",
    "df2"
   ]
  },
  {
   "cell_type": "code",
   "execution_count": 16,
   "id": "3bd7bf65",
   "metadata": {},
   "outputs": [
    {
     "name": "stdout",
     "output_type": "stream",
     "text": [
      "<class 'pandas.core.frame.DataFrame'>\n",
      "RangeIndex: 283 entries, 0 to 282\n",
      "Data columns (total 2 columns):\n",
      " #   Column    Non-Null Count  Dtype  \n",
      "---  ------    --------------  -----  \n",
      " 0   date      283 non-null    object \n",
      " 1   calories  283 non-null    float64\n",
      "dtypes: float64(1), object(1)\n",
      "memory usage: 4.5+ KB\n"
     ]
    }
   ],
   "source": [
    "# 5a. checking data types and nulls\n",
    "df2.info()\n",
    "\n",
    "    # date needs to be changed to date data format"
   ]
  },
  {
   "cell_type": "code",
   "execution_count": 18,
   "id": "effc0e33",
   "metadata": {},
   "outputs": [
    {
     "name": "stdout",
     "output_type": "stream",
     "text": [
      "<class 'pandas.core.frame.DataFrame'>\n",
      "RangeIndex: 283 entries, 0 to 282\n",
      "Data columns (total 2 columns):\n",
      " #   Column    Non-Null Count  Dtype         \n",
      "---  ------    --------------  -----         \n",
      " 0   date      283 non-null    datetime64[ns]\n",
      " 1   calories  283 non-null    float64       \n",
      "dtypes: datetime64[ns](1), float64(1)\n",
      "memory usage: 4.5 KB\n"
     ]
    },
    {
     "name": "stderr",
     "output_type": "stream",
     "text": [
      "/usr/local/anaconda3/lib/python3.8/site-packages/pandas/core/generic.py:5494: SettingWithCopyWarning: \n",
      "A value is trying to be set on a copy of a slice from a DataFrame.\n",
      "Try using .loc[row_indexer,col_indexer] = value instead\n",
      "\n",
      "See the caveats in the documentation: https://pandas.pydata.org/pandas-docs/stable/user_guide/indexing.html#returning-a-view-versus-a-copy\n",
      "  self[name] = value\n"
     ]
    }
   ],
   "source": [
    "# 5b. fixing date\n",
    "df2.date = pd.to_datetime(df2.date)\n",
    "df2.info()"
   ]
  },
  {
   "cell_type": "code",
   "execution_count": 45,
   "id": "16103525",
   "metadata": {},
   "outputs": [
    {
     "data": {
      "image/png": "[encoded data removed]",
      "text/plain": [
       "<Figure size 432x288 with 1 Axes>"
      ]
     },
     "metadata": {
      "needs_background": "light"
     },
     "output_type": "display_data"
    }
   ],
   "source": [
    "# 6a. looking at calorie distribution\n",
    "df2.set_index('date').plot.hist()\n",
    "plt.title('Normal-ish Distribution of Calorie Intake')\n",
    "plt.savefig('distribution_calories.png')\n",
    "plt.show()"
   ]
  },
  {
   "cell_type": "code",
   "execution_count": 37,
   "id": "850ab293",
   "metadata": {},
   "outputs": [
    {
     "data": {
      "text/plain": [
       "0     2016-02-29\n",
       "1     2016-03-01\n",
       "2     2016-03-02\n",
       "3     2016-03-03\n",
       "4     2016-03-04\n",
       "         ...    \n",
       "278   2016-12-03\n",
       "279   2016-12-04\n",
       "280   2016-12-05\n",
       "281   2016-12-06\n",
       "282   2016-12-07\n",
       "Name: date, Length: 283, dtype: datetime64[ns]"
      ]
     },
     "execution_count": 37,
     "metadata": {},
     "output_type": "execute_result"
    }
   ],
   "source": [
    "# 6b. creating date series to view date distribution\n",
    "series_dates = df2.date\n",
    "series_dates"
   ]
  },
  {
   "cell_type": "code",
   "execution_count": 46,
   "id": "e873de29",
   "metadata": {},
   "outputs": [
    {
     "data": {
      "image/png": "[encoded data removed]",
      "text/plain": [
       "<Figure size 432x288 with 1 Axes>"
      ]
     },
     "metadata": {
      "needs_background": "light"
     },
     "output_type": "display_data"
    }
   ],
   "source": [
    "# looking at distribution of dates\n",
    "series_dates.groupby([series_dates.dt.year, series_dates.dt.month]).count().plot(kind=\"bar\")\n",
    "plt.xticks(rotation=30)\n",
    "plt.title('Data Collection - Feb 2016 to Dec 2016')\n",
    "plt.savefig('distribution_dates.png')\n",
    "plt.show()"
   ]
  },
  {
   "cell_type": "code",
   "execution_count": 47,
   "id": "59dc2455",
   "metadata": {},
   "outputs": [],
   "source": [
    "# 7. writing cleaned up data to csv file\n",
    "df2.to_csv('data_calories-cleaned.csv')"
   ]
  },
  {
   "cell_type": "code",
   "execution_count": 20,
   "id": "bd808efb",
   "metadata": {
    "scrolled": true
   },
   "outputs": [
    {
     "data": {
      "text/html": [
       "<div>\n",
       "<style scoped>\n",
       "    .dataframe tbody tr th:only-of-type {\n",
       "        vertical-align: middle;\n",
       "    }\n",
       "\n",
       "    .dataframe tbody tr th {\n",
       "        vertical-align: top;\n",
       "    }\n",
       "\n",
       "    .dataframe thead th {\n",
       "        text-align: right;\n",
       "    }\n",
       "</style>\n",
       "<table border=\"1\" class=\"dataframe\">\n",
       "  <thead>\n",
       "    <tr style=\"text-align: right;\">\n",
       "      <th></th>\n",
       "      <th>date</th>\n",
       "      <th>calories</th>\n",
       "    </tr>\n",
       "  </thead>\n",
       "  <tbody>\n",
       "    <tr>\n",
       "      <th>0</th>\n",
       "      <td>2016-02-29</td>\n",
       "      <td>1614.91</td>\n",
       "    </tr>\n",
       "    <tr>\n",
       "      <th>1</th>\n",
       "      <td>2016-03-01</td>\n",
       "      <td>1626.08</td>\n",
       "    </tr>\n",
       "    <tr>\n",
       "      <th>2</th>\n",
       "      <td>2016-03-02</td>\n",
       "      <td>1599.23</td>\n",
       "    </tr>\n",
       "    <tr>\n",
       "      <th>3</th>\n",
       "      <td>2016-03-03</td>\n",
       "      <td>1640.72</td>\n",
       "    </tr>\n",
       "    <tr>\n",
       "      <th>4</th>\n",
       "      <td>2016-03-04</td>\n",
       "      <td>1642.72</td>\n",
       "    </tr>\n",
       "    <tr>\n",
       "      <th>...</th>\n",
       "      <td>...</td>\n",
       "      <td>...</td>\n",
       "    </tr>\n",
       "    <tr>\n",
       "      <th>278</th>\n",
       "      <td>2016-12-03</td>\n",
       "      <td>1651.02</td>\n",
       "    </tr>\n",
       "    <tr>\n",
       "      <th>279</th>\n",
       "      <td>2016-12-04</td>\n",
       "      <td>1919.79</td>\n",
       "    </tr>\n",
       "    <tr>\n",
       "      <th>280</th>\n",
       "      <td>2016-12-05</td>\n",
       "      <td>1653.56</td>\n",
       "    </tr>\n",
       "    <tr>\n",
       "      <th>281</th>\n",
       "      <td>2016-12-06</td>\n",
       "      <td>1653.05</td>\n",
       "    </tr>\n",
       "    <tr>\n",
       "      <th>282</th>\n",
       "      <td>2016-12-07</td>\n",
       "      <td>1435.39</td>\n",
       "    </tr>\n",
       "  </tbody>\n",
       "</table>\n",
       "<p>283 rows × 2 columns</p>\n",
       "</div>"
      ],
      "text/plain": [
       "          date  calories\n",
       "0   2016-02-29   1614.91\n",
       "1   2016-03-01   1626.08\n",
       "2   2016-03-02   1599.23\n",
       "3   2016-03-03   1640.72\n",
       "4   2016-03-04   1642.72\n",
       "..         ...       ...\n",
       "278 2016-12-03   1651.02\n",
       "279 2016-12-04   1919.79\n",
       "280 2016-12-05   1653.56\n",
       "281 2016-12-06   1653.05\n",
       "282 2016-12-07   1435.39\n",
       "\n",
       "[283 rows x 2 columns]"
      ]
     },
     "execution_count": 20,
     "metadata": {},
     "output_type": "execute_result"
    }
   ],
   "source": [
    "# data that will be used in Tableau\n",
    "df2"
   ]
  },
  {
   "cell_type": "markdown",
   "id": "a86ee423",
   "metadata": {},
   "source": [
    "## Western Electric Rules\n",
    ">Detecting the presence of assignable causes\n",
    "\n",
    "According to [Wikipedia](https://en.wikipedia.org/wiki/Western_Electric_rules), Western Electric rules are decision rules in statistical process control for detecting out-of-control or non-random conditions in control charts. Observations falling outside of chart control limits (*typically +/- 3 std devs*) of centerline indicate where a process in question should be investigated for assignable causes. These rules were codified by the electrical engineering and manufacturing company, Western Electric and their purpose was to ensure that line workers and engineers interpreted control charts in a uniform way. \n",
    "<br>\n",
    "\n",
    "Zone | σ  | Flagged Data Point\n",
    ":-- | :-- | :--\n",
    "Zone A | 3σ | Any data point that falls outside of 3σ from center line\n",
    "Zone B | 2σ | Any point where ***2 out of the 3 preceding points*** falls outside of 2σ from center line, on the same side\n",
    "Zone C | 1σ | Any point where ***4 out of the 5 preceding points*** falls outside of 1σ from center line, on the same side"
   ]
  },
  {
   "cell_type": "code",
   "execution_count": null,
   "id": "9c85a421",
   "metadata": {},
   "outputs": [],
   "source": []
  }
 ],
 "metadata": {
  "kernelspec": {
   "display_name": "Python 3",
   "language": "python",
   "name": "python3"
  },
  "language_info": {
   "codemirror_mode": {
    "name": "ipython",
    "version": 3
   },
   "file_extension": ".py",
   "mimetype": "text/x-python",
   "name": "python",
   "nbconvert_exporter": "python",
   "pygments_lexer": "ipython3",
   "version": "3.8.8"
  }
 },
 "nbformat": 4,
 "nbformat_minor": 5
}
